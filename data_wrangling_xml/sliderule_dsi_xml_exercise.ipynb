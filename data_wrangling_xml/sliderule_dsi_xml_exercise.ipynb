{
 "cells": [
  {
   "cell_type": "markdown",
   "metadata": {},
   "source": [
    "# XML example and exercise\n",
    "****\n",
    "+ study examples of accessing nodes in XML tree structure  \n",
    "+ work on exercise to be completed and submitted\n",
    "****\n",
    "+ reference: https://docs.python.org/2.7/library/xml.etree.elementtree.html\n",
    "+ data source: http://www.dbis.informatik.uni-goettingen.de/Mondial\n",
    "****"
   ]
  },
  {
   "cell_type": "code",
   "execution_count": 3,
   "metadata": {
    "collapsed": true
   },
   "outputs": [],
   "source": [
    "from xml.etree import ElementTree as ET"
   ]
  },
  {
   "cell_type": "markdown",
   "metadata": {},
   "source": [
    "## XML example\n",
    "\n",
    "+ for details about tree traversal and iterators, see https://docs.python.org/2.7/library/xml.etree.elementtree.html"
   ]
  },
  {
   "cell_type": "code",
   "execution_count": 122,
   "metadata": {
    "collapsed": false
   },
   "outputs": [],
   "source": [
    "document_tree = ET.parse( './data/mondial_database_less.xml' )"
   ]
  },
  {
   "cell_type": "code",
   "execution_count": 123,
   "metadata": {
    "collapsed": false
   },
   "outputs": [
    {
     "name": "stdout",
     "output_type": "stream",
     "text": [
      "Albania\n",
      "Greece\n",
      "Macedonia\n",
      "Serbia\n",
      "Montenegro\n",
      "Kosovo\n",
      "Andorra\n"
     ]
    }
   ],
   "source": [
    "# print names of all countries\n",
    "for child in document_tree.getroot():\n",
    "    print (child.find('name').text)"
   ]
  },
  {
   "cell_type": "code",
   "execution_count": 124,
   "metadata": {
    "collapsed": false
   },
   "outputs": [
    {
     "name": "stdout",
     "output_type": "stream",
     "text": [
      "* Albania:\n",
      "Tirana, Shkodër, Durrës, Vlorë, Elbasan, Korçë\n",
      "* Greece:\n",
      "Komotini, Kavala, Athina, Peiraias, Peristeri, Acharnes, Patra, Kozani, Kerkyra, Ioannina, Thessaloniki, Iraklio, Chania, Ermoupoli, Rhodes, Tripoli, Lamia, Chalkida, Larissa, Volos, Mytilini, Karyes\n",
      "* Macedonia:\n",
      "Skopje, Kumanovo\n",
      "* Serbia:\n",
      "Beograd, Novi Sad, Niš\n",
      "* Montenegro:\n",
      "Podgorica\n",
      "* Kosovo:\n",
      "Prishtine\n",
      "* Andorra:\n",
      "Andorra la Vella\n"
     ]
    }
   ],
   "source": [
    "# print names of all countries and their cities\n",
    "for element in document_tree.iterfind('country'):\n",
    "    print ('* ' + element.find('name').text + ':',)\n",
    "    capitals_string = ''\n",
    "    for subelement in element.getiterator('city'):\n",
    "        capitals_string += subelement.find('name').text + ', '\n",
    "    print (capitals_string[:-2])"
   ]
  },
  {
   "cell_type": "markdown",
   "metadata": {},
   "source": [
    "****\n",
    "## XML exercise\n",
    "\n",
    "Using data in 'data/mondial_database.xml', the examples above, and refering to https://docs.python.org/2.7/library/xml.etree.elementtree.html, find\n",
    "\n",
    "1. 10 countries with the lowest infant mortality rates\n",
    "2. 10 cities with the largest population\n",
    "3. 10 ethnic groups with the largest overall populations (sum of best/latest estimates over all countries)\n",
    "4. name and country of a) longest river, b) largest lake and c) airport at highest elevation"
   ]
  },
  {
   "cell_type": "code",
   "execution_count": 125,
   "metadata": {
    "collapsed": true
   },
   "outputs": [],
   "source": [
    "document = ET.parse( './data/mondial_database.xml' )"
   ]
  },
  {
   "cell_type": "code",
   "execution_count": 126,
   "metadata": {
    "collapsed": false
   },
   "outputs": [
    {
     "name": "stdout",
     "output_type": "stream",
     "text": [
      "10 countries with the lowest infant mortality rates are:\n",
      "Monaco\n",
      "Japan\n",
      "Bermuda\n",
      "Singapore\n",
      "Sweden\n",
      "Czech Republic\n",
      "Hong Kong\n",
      "Macao\n",
      "Iceland\n",
      "Italy\n"
     ]
    }
   ],
   "source": [
    "# 1. 10 countries with the lowest infant mortality rates\n",
    "\n",
    "dict = {}\n",
    "for element in document.iterfind('country'):\n",
    "    country = element.find('name').text\n",
    "    \n",
    "    iM = element.find('infant_mortality')\n",
    "    if iM is not None:\n",
    "        dict[float(iM.text)] = country\n",
    "print (\"10 countries with the lowest infant mortality rates are:\")\n",
    "count = 0\n",
    "for rates in sorted(dict.keys()):\n",
    "    print(dict[rates])\n",
    "    count +=1\n",
    "    if count == 10:\n",
    "        break\n",
    "    \n",
    "\n",
    "    \n",
    "        \n",
    "        \n",
    "   "
   ]
  },
  {
   "cell_type": "code",
   "execution_count": 127,
   "metadata": {
    "collapsed": false,
    "scrolled": true
   },
   "outputs": [
    {
     "name": "stdout",
     "output_type": "stream",
     "text": [
      "10 cities with the largest populations are:\n",
      "Seoul\n",
      "Hong Kong\n",
      "Al Qahirah\n",
      "Bangkok\n",
      "Ho Chi Minh\n",
      "Busan\n",
      "New Taipei\n",
      "Hanoi\n",
      "Al Iskandariyah\n",
      "Taipei\n"
     ]
    }
   ],
   "source": [
    "#2. 10 cities with the largest population\n",
    "#note, didn't have enough time to see if \n",
    "#populations were from latest census for the city or not.\n",
    "\n",
    "cities = document.findall('country/city')\n",
    "dict = {}\n",
    "for city in cities:\n",
    "    cityName = city.findtext('name')\n",
    "    population = city.findtext('population')\n",
    "    if ((population is not None) & (city is not None)):\n",
    "        dict[int(population)] = cityName\n",
    "\n",
    "print (\"10 cities with the largest populations are:\")\n",
    "count = 0\n",
    "for populations in sorted(dict.keys(), reverse=True):\n",
    "    print(dict[populations])\n",
    "    count +=1\n",
    "    if count == 10:\n",
    "        break    \n"
   ]
  },
  {
   "cell_type": "code",
   "execution_count": null,
   "metadata": {
    "collapsed": true
   },
   "outputs": [],
   "source": []
  },
  {
   "cell_type": "code",
   "execution_count": 178,
   "metadata": {
    "collapsed": false,
    "scrolled": false
   },
   "outputs": [
    {
     "name": "stdout",
     "output_type": "stream",
     "text": [
      "10 cities with the largest populations are:\n",
      "Shanghai\n",
      "Istanbul\n",
      "Mumbai\n",
      "Moskva\n",
      "Beijing\n",
      "São Paulo\n",
      "Tianjin\n",
      "Guangzhou\n",
      "Delhi\n",
      "Shenzhen\n"
     ]
    }
   ],
   "source": [
    "#2. 10 cities with the largest population \n",
    "#populations were from latest census for the city or not.\n",
    "populationsDict = {}  ## Key population, value City...\n",
    "for countries in document.iterfind('country'):\n",
    "  \n",
    "    city_string = ''\n",
    "    stuff = ''\n",
    "    prevYear = ''\n",
    "    j = 0\n",
    "    for subelement in countries.getiterator('city'):\n",
    "        city = subelement.find('name').text         \n",
    "        i = 0\n",
    "        population = ''\n",
    "\n",
    "        for ssubelement in subelement.getiterator('population'):                \n",
    "            population = (ssubelement.text)\n",
    "           \n",
    "        if(population != ''):\n",
    "            populationDict[int(population)] = city\n",
    "    \n",
    "print (\"10 cities with the largest populations are:\")\n",
    "count = 0\n",
    "for populations in sorted(populationDict.keys(), reverse=True):\n",
    "    print(populationDict[populations])\n",
    "    \n",
    "    count +=1\n",
    "    if count == 10:\n",
    "        break            \n"
   ]
  },
  {
   "cell_type": "code",
   "execution_count": 241,
   "metadata": {
    "collapsed": false,
    "scrolled": false
   },
   "outputs": [
    {
     "name": "stdout",
     "output_type": "stream",
     "text": [
      "Han Chinese :  1245058800.0\n",
      "Indo-Aryan :  871815583.44\n",
      "European :  494872219.71959996\n",
      "African :  318325120.369\n",
      "Dravidian :  302713744.25\n",
      "Mestizo :  157734354.93699998\n",
      "Bengali :  146776916.72\n",
      "Russian :  131856996.077\n",
      "Japanese :  126534212.0\n",
      "Malay :  121993550.374\n"
     ]
    }
   ],
   "source": [
    "#3. 10 ethnic groups with the largest overall populations (sum of best/latest estimates over all countries)\n",
    "eG = {}\n",
    "\n",
    "for element in document.iterfind('country'):\n",
    "    country = element.find('name').text\n",
    "    \n",
    "    #setting up country list\n",
    "    for children in element.getchildren():\n",
    "        if children.tag == \"population\":            \n",
    "            latestPopulation = children\n",
    "            population = (int(latestPopulation.text))\n",
    "            \n",
    "    for children in element.getchildren():\n",
    "        if children.tag == 'ethnicgroup':\n",
    "            \n",
    "            percentageText = children.attrib['percentage']\n",
    "            ethnicGroup = children.text            \n",
    "            percentage = float(percentageText)\n",
    "            countryEGPop = (percentage * population / 100)\n",
    "            if ethnicGroup in eG.keys():\n",
    "                accumEthnicGroupPop = eG.get(ethnicGroup)\n",
    "                eG[ethnicGroup] = countryEGPop + accumEthnicGroupPop\n",
    "            else:\n",
    "                eG[ethnicGroup] = countryEGPop\n",
    "                \n",
    "count = 0\n",
    "for ethnicPopulations in sorted(eG, key=eG.get, reverse=True):\n",
    "    print(ethnicPopulations, \": \",eG[ethnicPopulations] )\n",
    "    \n",
    "    count +=1\n",
    "    if count == 10:\n",
    "        break\n"
   ]
  },
  {
   "cell_type": "code",
   "execution_count": 384,
   "metadata": {
    "collapsed": false,
    "scrolled": false
   },
   "outputs": [
    {
     "name": "stdout",
     "output_type": "stream",
     "text": [
      "Amazonas  is the longest River, located in  CO BR PE\n",
      "Caspian Sea  is the largest Lake, located in  R AZ KAZ IR TM\n",
      "El Alto Intl  has the highest elevation, it is located in  BOL\n"
     ]
    }
   ],
   "source": [
    "#4. name and country of a) longest river, b) largest lake and c) airport at highest elevationeG = {}\n",
    "riverLenghthDicts = {}  #river lenght and name\n",
    "riverNameDicts = {}\n",
    "lakeAreaDicts = {}\n",
    "lakeNameDicts = {}\n",
    "airportElevationDicts = {}\n",
    "airportNameDicts = {}\n",
    "for rivers in document.iterfind('river'):\n",
    "    riverName = rivers.find('name').text\n",
    "    \n",
    "    if rivers.find('length') is not None:\n",
    "        length = float(rivers.find('length').text)\n",
    "        riverCountry = rivers.attrib['country']\n",
    "        riverLenghthDicts[riverName] = length\n",
    "        riverNameDicts[riverName] = riverCountry\n",
    "       \n",
    "for lakes in document.iterfind('lake'):\n",
    "    lakeName = lakes.find('name').text\n",
    "    \n",
    "    if lakes.find('area') is not None:\n",
    "        area = float(lakes.find('area').text)\n",
    "        lakeCountry = lakes.attrib['country']\n",
    "        lakeAreaDicts[lakeName] = area\n",
    "        lakeNameDicts[lakeName] = lakeCountry\n",
    "        \n",
    "for airports in document.iterfind('airport'):\n",
    "    airportName = airports.find('name').text\n",
    "    \n",
    "    if airports.find('elevation').text is not None:\n",
    "        \n",
    "        airportElevation = int(airports.find('elevation').text)\n",
    "        airportCountry = airports.attrib['country']\n",
    "        airportElevationDicts[airportName] = airportElevation\n",
    "        airportNameDicts[airportName] = airportCountry\n",
    "    \n",
    "        \n",
    "        \n",
    "    \n",
    "longestRiver = max(riverLenghthDicts, key=riverLenghthDicts.get)\n",
    "print (longestRiver, \" is the longest River, located in \", riverNameDicts[longestRiver])  \n",
    "largestLake = max(lakeAreaDicts, key=lakeAreaDicts.get)\n",
    "print(largestLake, \" is the largest Lake, located in \", lakeNameDicts[largestLake])\n",
    "highestAirport = max(airportElevationDicts, key=airportElevationDicts.get)\n",
    "print (highestAirport, \" has the highest elevation, it is located in \", airportNameDicts[highestAirport])\n",
    "    \n",
    "    \n",
    "    \n",
    "    \n",
    "    \n",
    " "
   ]
  },
  {
   "cell_type": "code",
   "execution_count": null,
   "metadata": {
    "collapsed": true
   },
   "outputs": [],
   "source": []
  },
  {
   "cell_type": "code",
   "execution_count": null,
   "metadata": {
    "collapsed": true
   },
   "outputs": [],
   "source": []
  },
  {
   "cell_type": "code",
   "execution_count": null,
   "metadata": {
    "collapsed": true
   },
   "outputs": [],
   "source": []
  },
  {
   "cell_type": "code",
   "execution_count": null,
   "metadata": {
    "collapsed": true
   },
   "outputs": [],
   "source": []
  },
  {
   "cell_type": "code",
   "execution_count": null,
   "metadata": {
    "collapsed": true
   },
   "outputs": [],
   "source": []
  },
  {
   "cell_type": "code",
   "execution_count": null,
   "metadata": {
    "collapsed": true
   },
   "outputs": [],
   "source": []
  },
  {
   "cell_type": "code",
   "execution_count": null,
   "metadata": {
    "collapsed": true
   },
   "outputs": [],
   "source": []
  },
  {
   "cell_type": "code",
   "execution_count": null,
   "metadata": {
    "collapsed": true
   },
   "outputs": [],
   "source": []
  }
 ],
 "metadata": {
  "kernelspec": {
   "display_name": "Python 3",
   "language": "python",
   "name": "python3"
  },
  "language_info": {
   "codemirror_mode": {
    "name": "ipython",
    "version": 3
   },
   "file_extension": ".py",
   "mimetype": "text/x-python",
   "name": "python",
   "nbconvert_exporter": "python",
   "pygments_lexer": "ipython3",
   "version": "3.5.1"
  }
 },
 "nbformat": 4,
 "nbformat_minor": 0
}
